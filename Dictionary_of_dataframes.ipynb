{
 "cells": [
  {
   "cell_type": "code",
   "execution_count": 17,
   "metadata": {},
   "outputs": [],
   "source": [
    "import datetime as dt \n",
    "import numpy as np\n",
    "import pandas as pd\n",
    "\n",
    "dates_list = [dt.datetime(2015,11,i+1) for i in range(3)]\n",
    "month_day_list = [d.strftime(\"%m%d\") for d in dates_list]\n",
    "\n",
    "dataframe_collection = {} "
   ]
  },
  {
   "cell_type": "code",
   "execution_count": 19,
   "metadata": {},
   "outputs": [
    {
     "data": {
      "text/plain": [
       "dict_keys([])"
      ]
     },
     "execution_count": 19,
     "metadata": {},
     "output_type": "execute_result"
    }
   ],
   "source": [
    "dataframe_collection.keys()"
   ]
  },
  {
   "cell_type": "code",
   "execution_count": null,
   "metadata": {},
   "outputs": [],
   "source": [
    "for month_day in month_day_list:\n",
    "    new_data = np.random.rand(3,3)\n",
    "    dataframe_collection[month_day] = pd.DataFrame(new_data, columns=[\"one\", \"two\", \"three\"])"
   ]
  },
  {
   "cell_type": "code",
   "execution_count": 21,
   "metadata": {},
   "outputs": [
    {
     "name": "stdout",
     "output_type": "stream",
     "text": [
      "1101\n",
      "        one       two     three\n",
      "0  0.933854  0.514137  0.062816\n",
      "1  0.163777  0.906350  0.688576\n",
      "2  0.983130  0.965049  0.628980\n",
      "1102\n",
      "        one       two     three\n",
      "0  0.307249  0.880499  0.173946\n",
      "1  0.263786  0.598214  0.771373\n",
      "2  0.038589  0.924583  0.021562\n",
      "1103\n",
      "        one       two     three\n",
      "0  0.925068  0.891982  0.633227\n",
      "1  0.248671  0.753058  0.365361\n",
      "2  0.309940  0.271776  0.628519\n"
     ]
    }
   ],
   "source": [
    "for key in dataframe_collection.keys():\n",
    "    #print(\"\\n\" +\"=\"*40)\n",
    "    print(key)\n",
    "    #print(\"-\"*40)\n",
    "    print(dataframe_collection[key])"
   ]
  },
  {
   "cell_type": "code",
   "execution_count": null,
   "metadata": {},
   "outputs": [],
   "source": []
  },
  {
   "cell_type": "code",
   "execution_count": 6,
   "metadata": {},
   "outputs": [
    {
     "data": {
      "text/plain": [
       "[datetime.datetime(2015, 11, 1, 0, 0),\n",
       " datetime.datetime(2015, 11, 2, 0, 0),\n",
       " datetime.datetime(2015, 11, 3, 0, 0)]"
      ]
     },
     "execution_count": 6,
     "metadata": {},
     "output_type": "execute_result"
    }
   ],
   "source": [
    "dates_list"
   ]
  },
  {
   "cell_type": "code",
   "execution_count": 7,
   "metadata": {},
   "outputs": [
    {
     "data": {
      "text/plain": [
       "['1101', '1102', '1103']"
      ]
     },
     "execution_count": 7,
     "metadata": {},
     "output_type": "execute_result"
    }
   ],
   "source": [
    "month_day_list"
   ]
  },
  {
   "cell_type": "code",
   "execution_count": 8,
   "metadata": {},
   "outputs": [
    {
     "data": {
      "text/plain": [
       "array([[0.48731876, 0.46026792, 0.06057651],\n",
       "       [0.83122277, 0.38620821, 0.84661023],\n",
       "       [0.92382531, 0.87392245, 0.83315206]])"
      ]
     },
     "execution_count": 8,
     "metadata": {},
     "output_type": "execute_result"
    }
   ],
   "source": [
    "new_data"
   ]
  },
  {
   "cell_type": "code",
   "execution_count": 9,
   "metadata": {},
   "outputs": [
    {
     "data": {
      "text/plain": [
       "dict"
      ]
     },
     "execution_count": 9,
     "metadata": {},
     "output_type": "execute_result"
    }
   ],
   "source": [
    "type(dataframe_collection)"
   ]
  },
  {
   "cell_type": "code",
   "execution_count": 10,
   "metadata": {},
   "outputs": [
    {
     "data": {
      "text/plain": [
       "{'1101':         one       two     three\n",
       " 0  0.287458  0.895620  0.416219\n",
       " 1  0.485546  0.242480  0.292224\n",
       " 2  0.029434  0.469327  0.905603, '1102':         one       two     three\n",
       " 0  0.591629  0.834902  0.376118\n",
       " 1  0.650539  0.458140  0.314531\n",
       " 2  0.985249  0.030884  0.134730, '1103':         one       two     three\n",
       " 0  0.487319  0.460268  0.060577\n",
       " 1  0.831223  0.386208  0.846610\n",
       " 2  0.923825  0.873922  0.833152}"
      ]
     },
     "execution_count": 10,
     "metadata": {},
     "output_type": "execute_result"
    }
   ],
   "source": [
    "dataframe_collection"
   ]
  },
  {
   "cell_type": "code",
   "execution_count": 11,
   "metadata": {},
   "outputs": [
    {
     "data": {
      "text/plain": [
       "[{'1101':         one       two     three\n",
       "  0  0.287458  0.895620  0.416219\n",
       "  1  0.485546  0.242480  0.292224\n",
       "  2  0.029434  0.469327  0.905603, '1102':         one       two     three\n",
       "  0  0.591629  0.834902  0.376118\n",
       "  1  0.650539  0.458140  0.314531\n",
       "  2  0.985249  0.030884  0.134730, '1103':         one       two     three\n",
       "  0  0.487319  0.460268  0.060577\n",
       "  1  0.831223  0.386208  0.846610\n",
       "  2  0.923825  0.873922  0.833152}]"
      ]
     },
     "execution_count": 11,
     "metadata": {},
     "output_type": "execute_result"
    }
   ],
   "source": [
    "[dataframe_collection]"
   ]
  },
  {
   "cell_type": "code",
   "execution_count": 13,
   "metadata": {},
   "outputs": [
    {
     "ename": "KeyError",
     "evalue": "1",
     "output_type": "error",
     "traceback": [
      "\u001b[1;31m---------------------------------------------------------------------------\u001b[0m",
      "\u001b[1;31mKeyError\u001b[0m                                  Traceback (most recent call last)",
      "\u001b[1;32m<ipython-input-13-9b70387720bb>\u001b[0m in \u001b[0;36m<module>\u001b[1;34m\u001b[0m\n\u001b[1;32m----> 1\u001b[1;33m \u001b[0mdataframe_collection\u001b[0m\u001b[1;33m[\u001b[0m\u001b[1;36m1\u001b[0m\u001b[1;33m]\u001b[0m\u001b[1;33m\u001b[0m\u001b[1;33m\u001b[0m\u001b[0m\n\u001b[0m",
      "\u001b[1;31mKeyError\u001b[0m: 1"
     ]
    }
   ],
   "source": [
    "dataframe_collection[1]"
   ]
  },
  {
   "cell_type": "code",
   "execution_count": 15,
   "metadata": {},
   "outputs": [
    {
     "data": {
      "text/plain": [
       "dict_keys(['1101', '1102', '1103'])"
      ]
     },
     "execution_count": 15,
     "metadata": {},
     "output_type": "execute_result"
    }
   ],
   "source": [
    "dataframe_collection.keys()"
   ]
  },
  {
   "cell_type": "code",
   "execution_count": null,
   "metadata": {},
   "outputs": [],
   "source": []
  }
 ],
 "metadata": {
  "kernelspec": {
   "display_name": "Python 3",
   "language": "python",
   "name": "python3"
  },
  "language_info": {
   "codemirror_mode": {
    "name": "ipython",
    "version": 3
   },
   "file_extension": ".py",
   "mimetype": "text/x-python",
   "name": "python",
   "nbconvert_exporter": "python",
   "pygments_lexer": "ipython3",
   "version": "3.7.3"
  }
 },
 "nbformat": 4,
 "nbformat_minor": 2
}
