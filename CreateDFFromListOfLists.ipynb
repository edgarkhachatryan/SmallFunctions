{
 "cells": [
  {
   "cell_type": "code",
   "execution_count": 7,
   "metadata": {},
   "outputs": [],
   "source": [
    "import pandas as pd"
   ]
  },
  {
   "cell_type": "code",
   "execution_count": 8,
   "metadata": {},
   "outputs": [],
   "source": [
    "a = ['Name',\n",
    " 'Min_Latency',\n",
    " 'Avg_Latency',\n",
    " 'Median_Latency',\n",
    " 'Max_Latency',\n",
    " 'Num_Test_Wide_Total_Msgs',\n",
    " 'Image_Path']"
   ]
  },
  {
   "cell_type": "code",
   "execution_count": 9,
   "metadata": {},
   "outputs": [],
   "source": [
    "b = ['cancel_subscription',\n",
    " '0.0107',\n",
    " '0.0340',\n",
    " '0.0209',\n",
    " '0.2569',\n",
    " '0',\n",
    " 'server_side_latency_report/relative_trader_cancel_subscription.png',\n",
    " 'delete_watch_list',\n",
    " '0.0234',\n",
    " '0.0241',\n",
    " '0.0238',\n",
    " '0.0255',\n",
    " '0',\n",
    " 'server_side_latency_report/relative_trader_delete_watch_list.png',\n",
    " 'get_accounts',\n",
    " '0.0335',\n",
    " '0.0372',\n",
    " '0.0360',\n",
    " '0.0457',\n",
    " '0',\n",
    " 'server_side_latency_report/relative_trader_get_accounts.png']"
   ]
  },
  {
   "cell_type": "code",
   "execution_count": 10,
   "metadata": {},
   "outputs": [],
   "source": [
    "i=0\n",
    "new_list=[]\n",
    "\n",
    "while i<len(b):\n",
    "    new_list.append(b[i:i+7]) \n",
    "    i+=7"
   ]
  },
  {
   "cell_type": "code",
   "execution_count": 12,
   "metadata": {},
   "outputs": [
    {
     "data": {
      "text/plain": [
       "[['cancel_subscription',\n",
       "  '0.0107',\n",
       "  '0.0340',\n",
       "  '0.0209',\n",
       "  '0.2569',\n",
       "  '0',\n",
       "  'server_side_latency_report/relative_trader_cancel_subscription.png'],\n",
       " ['delete_watch_list',\n",
       "  '0.0234',\n",
       "  '0.0241',\n",
       "  '0.0238',\n",
       "  '0.0255',\n",
       "  '0',\n",
       "  'server_side_latency_report/relative_trader_delete_watch_list.png'],\n",
       " ['get_accounts',\n",
       "  '0.0335',\n",
       "  '0.0372',\n",
       "  '0.0360',\n",
       "  '0.0457',\n",
       "  '0',\n",
       "  'server_side_latency_report/relative_trader_get_accounts.png']]"
      ]
     },
     "execution_count": 12,
     "metadata": {},
     "output_type": "execute_result"
    }
   ],
   "source": [
    "new_list"
   ]
  },
  {
   "cell_type": "code",
   "execution_count": 11,
   "metadata": {},
   "outputs": [
    {
     "data": {
      "text/html": [
       "<div>\n",
       "<style scoped>\n",
       "    .dataframe tbody tr th:only-of-type {\n",
       "        vertical-align: middle;\n",
       "    }\n",
       "\n",
       "    .dataframe tbody tr th {\n",
       "        vertical-align: top;\n",
       "    }\n",
       "\n",
       "    .dataframe thead th {\n",
       "        text-align: right;\n",
       "    }\n",
       "</style>\n",
       "<table border=\"1\" class=\"dataframe\">\n",
       "  <thead>\n",
       "    <tr style=\"text-align: right;\">\n",
       "      <th></th>\n",
       "      <th>Name</th>\n",
       "      <th>Min_Latency</th>\n",
       "      <th>Avg_Latency</th>\n",
       "      <th>Median_Latency</th>\n",
       "      <th>Max_Latency</th>\n",
       "      <th>Num_Test_Wide_Total_Msgs</th>\n",
       "      <th>Image_Path</th>\n",
       "    </tr>\n",
       "  </thead>\n",
       "  <tbody>\n",
       "    <tr>\n",
       "      <th>0</th>\n",
       "      <td>cancel_subscription</td>\n",
       "      <td>0.0107</td>\n",
       "      <td>0.0340</td>\n",
       "      <td>0.0209</td>\n",
       "      <td>0.2569</td>\n",
       "      <td>0</td>\n",
       "      <td>server_side_latency_report/relative_trader_can...</td>\n",
       "    </tr>\n",
       "    <tr>\n",
       "      <th>1</th>\n",
       "      <td>delete_watch_list</td>\n",
       "      <td>0.0234</td>\n",
       "      <td>0.0241</td>\n",
       "      <td>0.0238</td>\n",
       "      <td>0.0255</td>\n",
       "      <td>0</td>\n",
       "      <td>server_side_latency_report/relative_trader_del...</td>\n",
       "    </tr>\n",
       "    <tr>\n",
       "      <th>2</th>\n",
       "      <td>get_accounts</td>\n",
       "      <td>0.0335</td>\n",
       "      <td>0.0372</td>\n",
       "      <td>0.0360</td>\n",
       "      <td>0.0457</td>\n",
       "      <td>0</td>\n",
       "      <td>server_side_latency_report/relative_trader_get...</td>\n",
       "    </tr>\n",
       "  </tbody>\n",
       "</table>\n",
       "</div>"
      ],
      "text/plain": [
       "                  Name Min_Latency Avg_Latency Median_Latency Max_Latency  \\\n",
       "0  cancel_subscription      0.0107      0.0340         0.0209      0.2569   \n",
       "1    delete_watch_list      0.0234      0.0241         0.0238      0.0255   \n",
       "2         get_accounts      0.0335      0.0372         0.0360      0.0457   \n",
       "\n",
       "  Num_Test_Wide_Total_Msgs                                         Image_Path  \n",
       "0                        0  server_side_latency_report/relative_trader_can...  \n",
       "1                        0  server_side_latency_report/relative_trader_del...  \n",
       "2                        0  server_side_latency_report/relative_trader_get...  "
      ]
     },
     "execution_count": 11,
     "metadata": {},
     "output_type": "execute_result"
    }
   ],
   "source": [
    "pd.DataFrame(new_list,\\\n",
    "            columns=a[0:7],\n",
    "            index=None)"
   ]
  },
  {
   "cell_type": "code",
   "execution_count": 13,
   "metadata": {},
   "outputs": [],
   "source": [
    "#df = pd.DataFrame([[1,2,3],[3,4,5]], \\\n",
    "#       columns=('first', 'second', 'third'), \\\n",
    "#       index=('alpha', 'beta')) \n",
    "#df"
   ]
  }
 ],
 "metadata": {
  "kernelspec": {
   "display_name": "Python 3",
   "language": "python",
   "name": "python3"
  },
  "language_info": {
   "codemirror_mode": {
    "name": "ipython",
    "version": 3
   },
   "file_extension": ".py",
   "mimetype": "text/x-python",
   "name": "python",
   "nbconvert_exporter": "python",
   "pygments_lexer": "ipython3",
   "version": "3.7.3"
  }
 },
 "nbformat": 4,
 "nbformat_minor": 2
}
