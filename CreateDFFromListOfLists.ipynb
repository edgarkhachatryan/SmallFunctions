import pandas as pd

a = ['Name',
 'Min_Latency',
 'Avg_Latency',
 'Median_Latency',
 'Max_Latency',
 'Num_Test_Wide_Total_Msgs',
 'Image_Path']
 
 b = ['cancel_subscription',
 '0.0107',
 '0.0340',
 '0.0209',
 '0.2569',
 '0',
 'server_side_latency_report/relative_trader_cancel_subscription.png',
 'delete_watch_list',
 '0.0234',
 '0.0241',
 '0.0238',
 '0.0255',
 '0',
 'server_side_latency_report/relative_trader_delete_watch_list.png',
 'get_accounts',
 '0.0335',
 '0.0372',
 '0.0360',
 '0.0457',
 '0',
 'server_side_latency_report/relative_trader_get_accounts.png']
 
 i=0
new_list=[]

while i<len(b):
    new_list.append(b[i:i+7]) 
    i+=7
    
    new_list
    
    pd.DataFrame(new_list,\
            columns=a[0:7],
            index=None)
