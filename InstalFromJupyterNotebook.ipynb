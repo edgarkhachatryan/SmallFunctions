#Example of installing seaborn from Jupyter Notebook.
import sys
!{sys.executable} -m pip install seaborn
