{
 "cells": [
  {
   "cell_type": "code",
   "execution_count": null,
   "metadata": {},
   "outputs": [],
   "source": [
    "def MAD(listOfValues, threshold=3.5):\n",
    "    '''\n",
    "        Median Absolute Deviation function returns a dictionary of index (as key) \n",
    "        and outlier value (as dict. value) of time series.\n",
    "    \n",
    "    Args:\n",
    "        listOfValues: a list, series or array object representing the times series.\n",
    "        threshold : The modified z-score (MzScore) to use as a threshold. Observations with\n",
    "            a modified z-score (based on the median absolute deviation) greater\n",
    "            than this value will be classified as outliers.\n",
    "        MAD = |median(x(0:n)-median(listOfValues)|\n",
    "        ModifiedZScore(i) = | 0.6745*(x(i) - median(listOfValues)) | / MAD >= Threshold\n",
    "        \n",
    "    Returns:\n",
    "    --------\n",
    "        mask : A dictionary of outliers.\n",
    "\n",
    "    References:\n",
    "    ----------\n",
    "        Boris Iglewicz and David Hoaglin (1993), \"Volume 16: How to Detect and\n",
    "        Handle Outliers\", The ASQC Basic References in Quality Control:\n",
    "        Statistical Techniques, Edward F. Mykytka, Ph.D., Editor.\n",
    "        #https://stackoverflow.com/questions/22354094/pythonic-way-of-detecting-outliers-in-one-dimensional-observation-data?utm_medium=organic&utm_source=google_rich_qa&utm_campaign=google_rich_qa\n",
    "    '''\n",
    "    if threshold<=0:\n",
    "        raise ValueError(\"The threshold should be a positive number %d is provided.\" % threshold)\n",
    "    else:\n",
    "        xMedianI = median(listOfValues)\n",
    "        xMedianII = []\n",
    "        outlierScore = []\n",
    "        outliers = {}\n",
    "    \n",
    "        for x in listOfValues:\n",
    "            xMedianII.append(abs(x-xMedianI))\n",
    "        \n",
    "        mad = median(xMedianII)\n",
    "    \n",
    "        for index, x in zip(listOfValues.index, listOfValues):\n",
    "            outlierScore = (norm.ppf(0.75) * abs(x - xMedianI) / mad)\n",
    "            if outlierScore > threshold:\n",
    "                outliers[index]=x\n",
    "        return outliers"
   ]
  }
 ],
 "metadata": {
  "kernelspec": {
   "display_name": "Python 3",
   "language": "python",
   "name": "python3"
  },
  "language_info": {
   "codemirror_mode": {
    "name": "ipython",
    "version": 3
   },
   "file_extension": ".py",
   "mimetype": "text/x-python",
   "name": "python",
   "nbconvert_exporter": "python",
   "pygments_lexer": "ipython3",
   "version": "3.7.3"
  }
 },
 "nbformat": 4,
 "nbformat_minor": 2
}
